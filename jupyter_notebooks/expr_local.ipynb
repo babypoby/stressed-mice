{
 "cells": [
  {
   "cell_type": "code",
   "execution_count": 64,
   "id": "a0bb8b7b-32de-4438-899c-4f83b303915e",
   "metadata": {},
   "outputs": [],
   "source": [
    "\n",
    "import pandas as pd\n",
    "import matplotlib.pyplot as plt\n",
    "import seaborn as sns\n",
    "import os\n",
    "import re\n",
    "from pathlib import Path\n",
    "import numpy as np\n",
    "\n",
    "# File paths\n",
    "EXPR_PATH = \"/nfs/nas12.ethz.ch/fs1201/green_groups_let_public/Euler/Vakil/Mouse_brain_Sept2024/gene_annotation2/CRS_Morning_Evening_TPM_rearr.csv\"\n",
    "CPG_OXID = \"../data_normalized/cpg_Normalized.csv\"\n",
    "BIN_OXID = \"../data_normalized/cleaned_Normalized_1000.csv\"\n",
    "LIST = [\n",
    "    \"../data_anova/cpg/cpg_overlap_genes_result.bed\",\n",
    "    \"../data_anova/bin1000/overlap_genes_result.bed\",\n",
    "    \"../data_anova/bin1000/overlap_promoters_result.bed\"\n",
    "]\n",
    "\n",
    "# Create output directory for plots\n",
    "output_dir = Path(\"gene_correlation_plots\")\n",
    "output_dir.mkdir(exist_ok=True)\n",
    "\n",
    "# Function to extract group from sample name\n",
    "def extract_group_expr(sample):\n",
    "    # Expected format: '20_CRS_evening'\n",
    "    parts = sample.split('_')\n",
    "    if len(parts) >= 3:\n",
    "        return f\"{parts[1]}_{parts[2]}\"\n",
    "    return \"Unknown\"\n",
    "\n",
    "def extract_group_oxid(sample):\n",
    "    # Expected format: 'Sample_14_CRS_evening_S14_'\n",
    "    parts = sample.split('_')\n",
    "    if len(parts) >= 5:\n",
    "        return f\"{parts[2]}_{parts[3]}\"\n",
    "    return \"Unknown\"\n",
    "\n",
    "# Load data\n",
    "def load_data():\n",
    "    print(\"Loading expression data...\")\n",
    "    expr_df = pd.read_csv(EXPR_PATH)\n",
    "    \n",
    "    print(\"Loading CpG oxidation data...\")\n",
    "    cpg_df = pd.read_csv(CPG_OXID)\n",
    "    \n",
    "    print(\"Loading bin oxidation data...\")\n",
    "    bin_df = pd.read_csv(BIN_OXID)\n",
    "    \n",
    "    # Process expression data\n",
    "    # Add group column based on Sample column\n",
    "    expr_df['Group'] = expr_df['Sample'].apply(extract_group_expr)\n",
    "    print (expr_df.head(5))\n",
    "    \n",
    "    # Process oxidation data\n",
    "    # Add group column based on sample name\n",
    "    cpg_df['Group'] = cpg_df['sample'].apply(extract_group_oxid)\n",
    "    bin_df['Group'] = bin_df['Sample'].apply(extract_group_oxid)\n",
    "    \n",
    "    return expr_df, cpg_df, bin_df\n",
    "\n",
    "# Load gene lists from BED files\n",
    "def load_gene_lists():\n",
    "    all_genes = []\n",
    "    for list_file in LIST:\n",
    "        try:\n",
    "            print(f\"Loading genes from {list_file}...\")\n",
    "            # Read BED file, assuming genes are in the 10th column (index 9)\n",
    "            df = pd.read_csv(list_file, sep='\\t', header=None)\n",
    "            \n",
    "            # Get genes from the 10th column\n",
    "            genes = df.iloc[:, 9].tolist()\n",
    "            ids = df.iloc[:, 3].tolist()\n",
    "            \n",
    "            # Keep track of which file each gene came from\n",
    "            file_name = os.path.basename(list_file)\n",
    "            gene_data = [(gene, id_val, file_name) for gene, id_val in zip(genes, ids)]\n",
    "            all_genes.extend(gene_data)\n",
    "      \n",
    "            \n",
    "            print(f\"Found {len(genes)} unique genes in {file_name}\")\n",
    "        except Exception as e:\n",
    "            print(f\"Error loading {list_file}: {e}\")\n",
    "    \n",
    "    return all_genes\n",
    "\n",
    "# Function to create scatter plot for a gene\n",
    "def plot_gene_correlation(gene, ID, source_file, expr_df, cpg_df, bin_df):\n",
    "    print(f\"Processing gene: {gene} with id: {ID} from {source_file}\")\n",
    "    \n",
    "    # Determine which oxidation data to use based on source file\n",
    "    if \"cpg\" in source_file:\n",
    "        oxid_df = cpg_df\n",
    "        oxid_col = \"median_normalized_damage\"\n",
    "        oxid_df['bin_id'] = oxid_df['id'].astype(str) + oxid_df['strand']\n",
    "        oxid_id_col = \"bin_id\"\n",
    "        oxid_type = \"CpG\"\n",
    "    else:  # bin1000\n",
    "        oxid_df = bin_df\n",
    "        oxid_col = \"Median_Normalized_Damage\"\n",
    "        oxid_df['bin_id'] = oxid_df['Bin'].astype(str) + '_' + oxid_df['Strand'] + oxid_df['Chromosome'].astype(str)\n",
    "        oxid_id_col = \"bin_id\"\n",
    "        oxid_type = \"Bin1000\"\n",
    "    \n",
    "    \n",
    "    gene_expr = expr_df[expr_df['Gene'] == gene]\n",
    "\n",
    "    if gene_expr.empty:\n",
    "        print(f\"No expression data found for gene {gene}\")\n",
    "        return\n",
    "    \n",
    "    # Find corresponding oxidation data entries\n",
    "    # This is a simplification - you may need to adjust how to match gene to oxidation IDs\n",
    "\n",
    "    gene_oxid = oxid_df[oxid_df[oxid_id_col] == ID]\n",
    "\n",
    "    if gene_oxid.empty:\n",
    "        print(f\"No oxidation data found for gene {gene}\")\n",
    "        return\n",
    "    \n",
    "    # Prepare data for plotting by matching samples\n",
    "    plot_data = []\n",
    "    \n",
    "    for group in ['CRS_evening', 'CRS_morning', 'Ctrl_evening', 'Ctrl_morning']:\n",
    "        # Get expression values for this group\n",
    "        group_expr = gene_expr[gene_expr['Group'] == group]\n",
    "        \n",
    "        # Get oxidation values for this group\n",
    "        group_oxid = gene_oxid[gene_oxid['Group'] == group]\n",
    "        \n",
    "        # Combine data from both sources\n",
    "        # Here we're assuming each group has 5 samples as mentioned in your description\n",
    "        for i in range(min(len(group_expr), len(group_oxid))):\n",
    "            try:\n",
    "                expr_value = group_expr.iloc[i]['Expression_level']\n",
    "                oxid_value = group_oxid.iloc[i][oxid_col]\n",
    "                \n",
    "                plot_data.append({\n",
    "                    'Expression': expr_value,\n",
    "                    'Oxidation': oxid_value,\n",
    "                    'Group': group\n",
    "                })\n",
    "            except IndexError:\n",
    "                continue\n",
    "    \n",
    "    # Create DataFrame from collected data\n",
    "    if not plot_data:\n",
    "        print(f\"No matching data points found for gene {gene}\")\n",
    "        return\n",
    "    \n",
    "    plot_df = pd.DataFrame(plot_data)\n",
    "    \n",
    "    # Create plot\n",
    "    plt.figure(figsize=(10, 8))\n",
    "    \n",
    "    # Create scatter plot with color-coded groups\n",
    "    sns.scatterplot(\n",
    "        data=plot_df, \n",
    "        x='Expression', \n",
    "        y='Oxidation', \n",
    "        hue='Group', \n",
    "        palette='viridis',\n",
    "        s=100,\n",
    "        alpha=0.7\n",
    "    )\n",
    "    \n",
    "    # Add trend line for all data\n",
    "    if len(plot_df) > 1:\n",
    "        sns.regplot(\n",
    "            data=plot_df, \n",
    "            x='Expression', \n",
    "            y='Oxidation', \n",
    "            scatter=False, \n",
    "            line_kws={\"color\": \"red\", \"linestyle\": \"--\"}\n",
    "        )\n",
    "    \n",
    "    # Calculate correlation\n",
    "    correlation = plot_df['Expression'].corr(plot_df['Oxidation'])\n",
    "    \n",
    "    # Add title and labels\n",
    "    plt.title(f'Gene: {gene} (r = {correlation:.3f})\\nOxidation Type: {oxid_type}', fontsize=14)\n",
    "    plt.xlabel('Gene Expression Level (TPM)', fontsize=12)\n",
    "    plt.ylabel(f'Oxidation Level ({oxid_col})', fontsize=12)\n",
    "    \n",
    "    # Add legend\n",
    "    plt.legend(title='Group', fontsize=10)\n",
    "    \n",
    "    # Add grid\n",
    "    plt.grid(True, linestyle='--', alpha=0.7)\n",
    "    \n",
    "    # Save plot\n",
    "    output_path = output_dir / f\"{gene}_{oxid_type}.png\"\n",
    "    plt.savefig(output_path, dpi=300, bbox_inches='tight')\n",
    "    plt.close()\n",
    "    \n",
    "    print(f\"Plot saved to {output_path}\")\n",
    "    \n",
    "    return correlation\n",
    "\n"
   ]
  },
  {
   "cell_type": "code",
   "execution_count": 58,
   "id": "c9e0395f-5387-4a14-bbc3-f41210977e7a",
   "metadata": {},
   "outputs": [
    {
     "name": "stdout",
     "output_type": "stream",
     "text": [
      "Loading expression data...\n",
      "Loading CpG oxidation data...\n",
      "Loading bin oxidation data...\n",
      "   Unnamed: 0                Gene  Expression_level           Sample  \\\n",
      "0           0  ENSMUSG00000000001         15.613475  01_Ctrl_morning   \n",
      "1           1  ENSMUSG00000000003          0.000000  01_Ctrl_morning   \n",
      "2           2  ENSMUSG00000000028          0.775004  01_Ctrl_morning   \n",
      "3           3  ENSMUSG00000000031          0.099366  01_Ctrl_morning   \n",
      "4           4  ENSMUSG00000000037          0.403567  01_Ctrl_morning   \n",
      "\n",
      "          Group  \n",
      "0  Ctrl_morning  \n",
      "1  Ctrl_morning  \n",
      "2  Ctrl_morning  \n",
      "3  Ctrl_morning  \n",
      "4  Ctrl_morning  \n"
     ]
    }
   ],
   "source": [
    "# Load all data\n",
    "expr_df, cpg_df, bin_df = load_data()"
   ]
  },
  {
   "cell_type": "code",
   "execution_count": 60,
   "id": "36bd8f8e-6b20-49d5-91d6-e6c483b3e4a9",
   "metadata": {},
   "outputs": [
    {
     "name": "stdout",
     "output_type": "stream",
     "text": [
      "Loading genes from ../data_anova/cpg/cpg_overlap_genes_result.bed...\n",
      "Found 2 unique genes in cpg_overlap_genes_result.bed\n",
      "Loading genes from ../data_anova/bin1000/overlap_genes_result.bed...\n",
      "Found 11 unique genes in overlap_genes_result.bed\n",
      "Loading genes from ../data_anova/bin1000/overlap_promoters_result.bed...\n",
      "Found 1 unique genes in overlap_promoters_result.bed\n"
     ]
    }
   ],
   "source": [
    "# Load gene lists\n",
    "gene_list = load_gene_lists()"
   ]
  },
  {
   "cell_type": "code",
   "execution_count": 65,
   "id": "c0ca25e3-44fb-4329-9e95-588f00f11fcb",
   "metadata": {},
   "outputs": [
    {
     "name": "stdout",
     "output_type": "stream",
     "text": [
      "HI\n",
      "Processing 14 genes...\n",
      "Processing gene: ENSMUSG00000120306 with id: NC_000070.7_55651120+ from cpg_overlap_genes_result.bed\n",
      "Plot saved to gene_correlation_plots/ENSMUSG00000120306_CpG.png\n",
      "Processing gene: ENSMUSG00000022577 with id: NC_000081.7_75438313+ from cpg_overlap_genes_result.bed\n",
      "Plot saved to gene_correlation_plots/ENSMUSG00000022577_CpG.png\n",
      "Processing gene: ENSMUSG00000018654 with id: 11648000.0_-NC_000077.7 from overlap_genes_result.bed\n"
     ]
    },
    {
     "name": "stderr",
     "output_type": "stream",
     "text": [
      "IOStream.flush timed out\n"
     ]
    },
    {
     "name": "stdout",
     "output_type": "stream",
     "text": [
      "Plot saved to gene_correlation_plots/ENSMUSG00000018654_Bin1000.png\n",
      "Processing gene: ENSMUSG00000004568 with id: 3460000.0_-NC_000074.7 from overlap_genes_result.bed\n",
      "Plot saved to gene_correlation_plots/ENSMUSG00000004568_Bin1000.png\n",
      "Processing gene: ENSMUSG00000101574 with id: 184275000.0_+NC_000067.7 from overlap_genes_result.bed\n"
     ]
    },
    {
     "name": "stderr",
     "output_type": "stream",
     "text": [
      "/cluster/home/taekim/.local/lib/python3.11/site-packages/numpy/lib/function_base.py:2897: RuntimeWarning: invalid value encountered in divide\n",
      "  c /= stddev[:, None]\n",
      "/cluster/home/taekim/.local/lib/python3.11/site-packages/numpy/lib/function_base.py:2898: RuntimeWarning: invalid value encountered in divide\n",
      "  c /= stddev[None, :]\n"
     ]
    },
    {
     "name": "stdout",
     "output_type": "stream",
     "text": [
      "Plot saved to gene_correlation_plots/ENSMUSG00000101574_Bin1000.png\n",
      "Processing gene: ENSMUSG00000069170 with id: 81642000.0_-NC_000079.7 from overlap_genes_result.bed\n",
      "Plot saved to gene_correlation_plots/ENSMUSG00000069170_Bin1000.png\n",
      "Processing gene: ENSMUSG00000040693 with id: 96747000.0_+NC_000067.7 from overlap_genes_result.bed\n",
      "Plot saved to gene_correlation_plots/ENSMUSG00000040693_Bin1000.png\n",
      "Processing gene: ENSMUSG00000097207 with id: 22988000.0_+NC_000071.7 from overlap_genes_result.bed\n",
      "Plot saved to gene_correlation_plots/ENSMUSG00000097207_Bin1000.png\n",
      "Processing gene: ENSMUSG00000106379 with id: 22988000.0_+NC_000071.7 from overlap_genes_result.bed\n",
      "Plot saved to gene_correlation_plots/ENSMUSG00000106379_Bin1000.png\n",
      "Processing gene: ENSMUSG00000111399 with id: 103296000.0_-NC_000075.7 from overlap_genes_result.bed\n"
     ]
    },
    {
     "name": "stderr",
     "output_type": "stream",
     "text": [
      "IOStream.flush timed out\n"
     ]
    },
    {
     "name": "stdout",
     "output_type": "stream",
     "text": [
      "Plot saved to gene_correlation_plots/ENSMUSG00000111399_Bin1000.png\n",
      "Processing gene: ENSMUSG00000033769 with id: 84831000.0_+NC_000072.7 from overlap_genes_result.bed\n",
      "Plot saved to gene_correlation_plots/ENSMUSG00000033769_Bin1000.png\n",
      "Processing gene: ENSMUSG00000062687 with id: 85887000.0_-NC_000074.7 from overlap_genes_result.bed\n"
     ]
    },
    {
     "name": "stderr",
     "output_type": "stream",
     "text": [
      "/cluster/home/taekim/.local/lib/python3.11/site-packages/numpy/lib/function_base.py:2897: RuntimeWarning: invalid value encountered in divide\n",
      "  c /= stddev[:, None]\n",
      "/cluster/home/taekim/.local/lib/python3.11/site-packages/numpy/lib/function_base.py:2898: RuntimeWarning: invalid value encountered in divide\n",
      "  c /= stddev[None, :]\n"
     ]
    },
    {
     "name": "stdout",
     "output_type": "stream",
     "text": [
      "Plot saved to gene_correlation_plots/ENSMUSG00000062687_Bin1000.png\n",
      "Processing gene: ENSMUSG00000056023 with id: 81825000.0_+NC_000069.7 from overlap_genes_result.bed\n",
      "Plot saved to gene_correlation_plots/ENSMUSG00000056023_Bin1000.png\n",
      "Processing gene: ENSMUSG00000073145 with id: 11648000.0_-NC_000077.7 from overlap_promoters_result.bed\n"
     ]
    },
    {
     "name": "stderr",
     "output_type": "stream",
     "text": [
      "/cluster/home/taekim/.local/lib/python3.11/site-packages/numpy/lib/function_base.py:2897: RuntimeWarning: invalid value encountered in divide\n",
      "  c /= stddev[:, None]\n",
      "/cluster/home/taekim/.local/lib/python3.11/site-packages/numpy/lib/function_base.py:2898: RuntimeWarning: invalid value encountered in divide\n",
      "  c /= stddev[None, :]\n"
     ]
    },
    {
     "name": "stdout",
     "output_type": "stream",
     "text": [
      "Plot saved to gene_correlation_plots/ENSMUSG00000073145_Bin1000.png\n",
      "Processing completed!\n"
     ]
    },
    {
     "data": {
      "image/png": "[encoded data removed]",
      "text/plain": [
       "<Figure size 1200x800 with 1 Axes>"
      ]
     },
     "metadata": {},
     "output_type": "display_data"
    }
   ],
   "source": [
    "print(\"HI\")\n",
    "print(f\"Processing {len(gene_list)} genes...\")\n",
    "# Create a DataFrame to store correlation results\n",
    "results = []\n",
    "        \n",
    "# Process each gene\n",
    "for gene, ID, source_file in gene_list:\n",
    "    try:\n",
    "        corr = plot_gene_correlation(gene, ID, source_file, expr_df, cpg_df, bin_df)\n",
    "          \n",
    "        if corr is not None:\n",
    "            results.append({\n",
    "                'Gene': gene,\n",
    "                'Source': source_file,\n",
    "                'Correlation': corr\n",
    "            })\n",
    "    except Exception as e:\n",
    "        print(f\"Error processing gene {gene}: {e}\")\n",
    "\n",
    "# Create results DataFrame outside the loop\n",
    "results_df = pd.DataFrame(results)\n",
    "        \n",
    "# Create summary plot of correlations\n",
    "if not results_df.empty:\n",
    "    # Save correlation results\n",
    "    results_df.to_csv(output_dir / \"correlation_results.csv\", index=False)\n",
    "\n",
    "    plt.figure(figsize=(12, 8))\n",
    "    \n",
    "    # Group by source file\n",
    "    for source, group in results_df.groupby('Source'):\n",
    "        sns.histplot(\n",
    "            data=group, \n",
    "            x='Correlation', \n",
    "            label=os.path.basename(source),\n",
    "            alpha=0.5,\n",
    "            kde=True\n",
    "        )\n",
    "    \n",
    "    plt.title('Distribution of Expression-Oxidation Correlations', fontsize=14)\n",
    "    plt.xlabel('Pearson Correlation Coefficient', fontsize=12)\n",
    "    plt.ylabel('Count', fontsize=12)\n",
    "    plt.legend()\n",
    "    plt.grid(True, linestyle='--', alpha=0.5)\n",
    "    \n",
    "    plt.savefig(output_dir / \"correlation_distribution.png\", dpi=300, bbox_inches='tight')\n",
    "    \n",
    "print(\"Processing completed!\")"
   ]
  },
  {
   "cell_type": "code",
   "execution_count": null,
   "id": "8c029cf3-b8db-436e-bc5f-8ccb6e0d20d3",
   "metadata": {},
   "outputs": [],
   "source": []
  }
 ],
 "metadata": {
  "kernelspec": {
   "display_name": "Python 3 (ipykernel)",
   "language": "python",
   "name": "python3"
  },
  "language_info": {
   "codemirror_mode": {
    "name": "ipython",
    "version": 3
   },
   "file_extension": ".py",
   "mimetype": "text/x-python",
   "name": "python",
   "nbconvert_exporter": "python",
   "pygments_lexer": "ipython3",
   "version": "3.11.6"
  }
 },
 "nbformat": 4,
 "nbformat_minor": 5
}
