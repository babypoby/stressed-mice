{
 "cells": [
  {
   "cell_type": "code",
   "execution_count": 2,
   "id": "4a2b41b6-8562-474b-9f08-40f735930ff7",
   "metadata": {},
   "outputs": [
    {
     "name": "stdout",
     "output_type": "stream",
     "text": [
      "/cluster/home/taekim/stressed_mice/jupyter_notebooks\n"
     ]
    }
   ],
   "source": [
    "! pwd"
   ]
  },
  {
   "cell_type": "code",
   "execution_count": 17,
   "id": "f1badb15-078e-4861-8b63-772048819923",
   "metadata": {},
   "outputs": [
    {
     "name": "stdout",
     "output_type": "stream",
     "text": [
      "BED file created: ../data_anova/bin100000/important_bins.bed with 1 bins\n",
      "Skipped bins: 3733 with factor1=False, factor2=True, interaction=False\n"
     ]
    }
   ],
   "source": [
    "import csv\n",
    "import re\n",
    "#This code converts csv data to a bed file\n",
    "#For binning data where id is like \"3460000.0_-NC_000074.7\"\n",
    "\n",
    "# Path to your CSV file\n",
    "input_csv = \"../data_anova/bin100000/anova_100000_all_significant_bins.csv\"\n",
    "output_bed = \"../data_anova/bin100000/important_bins.bed\"\n",
    "bin_size = 100000 #CHANGE\n",
    "\n",
    "skipped_factor_criteria = 0\n",
    "\n",
    "# Open files\n",
    "with open(input_csv, 'r') as csv_file, open(output_bed, 'w') as bed_file:\n",
    "    # Write header comment\n",
    "    bed_file.write(\"# BED file generated from anova_1000_all_significant_bins.csv using RefSeq accessions\\n\")\n",
    "    \n",
    "    # Create CSV reader\n",
    "    reader = csv.DictReader(csv_file)\n",
    "    \n",
    "    # Keep track of how many rows we process\n",
    "    processed_rows = 0\n",
    "    \n",
    "    # Process each row\n",
    "    for row in reader:\n",
    "        # Parse bin_id to get position, strand, and chromosome\n",
    "        bin_id = row['bin_id']\n",
    "\n",
    "        factor1_significant = row.get('factor1_significant', '').lower() == 'true'\n",
    "        factor2_significant = row.get('factor2_significant', '').lower() == 'true'\n",
    "        interaction_significant = row.get('interaction_significant', '').lower() == 'true'\n",
    "        \n",
    "        if not factor1_significant and factor2_significant and not interaction_significant:\n",
    "            skipped_factor_criteria += 1\n",
    "            continue\n",
    "        \n",
    "        # Find the position of the underscore for manual split\n",
    "        underscore_pos = bin_id.find('_')\n",
    "        if underscore_pos == -1:\n",
    "            continue\n",
    "            \n",
    "        # Split the bin_id manually\n",
    "        position_part = bin_id[:underscore_pos]\n",
    "        strand_chr_part = bin_id[underscore_pos+1:]\n",
    "        \n",
    "        # Extract position (remove decimal part)\n",
    "        try:\n",
    "            pos = int(float(position_part))\n",
    "        except ValueError:\n",
    "            continue\n",
    "        \n",
    "        # Extract strand - first character after underscore\n",
    "        strand = strand_chr_part[0]  # Should be + or -\n",
    "        if strand not in ['+', '-']:\n",
    "            continue\n",
    "            \n",
    "        # Extract RefSeq ID\n",
    "        # The format is like \"3460000.0_-NC_000074.7\"\n",
    "        refseq_match = re.search(r'[+-](NC_\\d+\\.\\d+)', strand_chr_part)\n",
    "        if not refseq_match:\n",
    "            continue\n",
    "            \n",
    "        refseq_id = refseq_match.group(1)\n",
    "        \n",
    "        # Create 1kb bin centered on position (±500bp)\n",
    "        start = pos\n",
    "        end = pos + bin_size\n",
    "        \n",
    "        # Get name and score\n",
    "        name = bin_id\n",
    "        \n",
    "        # Additional fields\n",
    "        sig_factors = row['significant_factors']\n",
    "        \n",
    "        # Write BED line (tab-separated) using RefSeq ID as chromosome\n",
    "        bed_line = f\"{refseq_id}\\t{start}\\t{end}\\t{name}\\t{strand}\\t{sig_factors}\\n\"\n",
    "        bed_file.write(bed_line)\n",
    "        processed_rows += 1\n",
    "        \n",
    "print(f\"BED file created: {output_bed} with {processed_rows} bins\")\n",
    "print(f\"Skipped bins: {skipped_factor_criteria} with factor1=False, factor2=True, interaction=False\")"
   ]
  },
  {
   "cell_type": "code",
   "execution_count": 25,
   "id": "c696827b-b8e9-46fd-9e88-99b295141980",
   "metadata": {},
   "outputs": [
    {
     "name": "stdout",
     "output_type": "stream",
     "text": [
      "/cluster/home/taekim/stressed_mice/jupyter_notebooks\n"
     ]
    }
   ],
   "source": [
    "!pwd"
   ]
  },
  {
   "cell_type": "code",
   "execution_count": 1,
   "id": "3f0c2fc9-a4fc-406e-bdc8-d96dd8ad8d5f",
   "metadata": {},
   "outputs": [
    {
     "name": "stdout",
     "output_type": "stream",
     "text": [
      "BED file created: ../data_anova/promoters/important_bins.bed with 0 bins\n",
      "Skipped bins: 4 with factor1=False, factor2=True, interaction=False\n"
     ]
    }
   ],
   "source": [
    "import csv\n",
    "import re\n",
    "# This code converts csv data to a bed file\n",
    "#For binning data where id is like \"NC_000074.7+3460000\"\n",
    "\n",
    "# Path to your CSV file\n",
    "input_csv = \"../data_anova/promoters/anova_all_significant_bins.csv\"\n",
    "output_bed = \"../data_anova/promoters/important_bins.bed\"\n",
    "bin_size = 3000 #CHANGE\n",
    "skipped_factor_criteria = 0\n",
    "\n",
    "# Open files\n",
    "with open(input_csv, 'r') as csv_file, open(output_bed, 'w') as bed_file:\n",
    "    # Write header comment\n",
    "    bed_file.write(\"# BED file generated from anova_all_significant_bins.csv using RefSeq accessions\\n\")\n",
    "    \n",
    "    # Create CSV reader\n",
    "    reader = csv.DictReader(csv_file)\n",
    "    \n",
    "    # Keep track of how many rows we process\n",
    "    processed_rows = 0\n",
    "    \n",
    "    # Process each row\n",
    "    for row in reader:\n",
    "        # Parse bin_id to get position, strand, and chromosome\n",
    "        bin_id = row['bin_id']\n",
    "        factor1_significant = row.get('factor1_significant', '').lower() == 'true'\n",
    "        factor2_significant = row.get('factor2_significant', '').lower() == 'true'\n",
    "        interaction_significant = row.get('interaction_significant', '').lower() == 'true'\n",
    "        \n",
    "        if not factor1_significant and factor2_significant and not interaction_significant:\n",
    "            skipped_factor_criteria += 1\n",
    "            continue\n",
    "        \n",
    "        # Extract RefSeq ID and position from the new format \"NC_000074.7+3460000\"\n",
    "        # The + or - indicates strand\n",
    "        refseq_match = re.match(r'^(.+?)_(\\d+)([+-])$', bin_id)\n",
    "        if not refseq_match:\n",
    "            continue\n",
    "            \n",
    "        refseq_id = refseq_match.group(1)\n",
    "        strand = refseq_match.group(3)  # + or -\n",
    "        \n",
    "        # Extract position\n",
    "        try:\n",
    "            pos = int(refseq_match.group(2))\n",
    "        except ValueError:\n",
    "            continue\n",
    "        \n",
    "        # Create bin with specified size\n",
    "        start = pos\n",
    "        end = pos + bin_size\n",
    "        \n",
    "        # Get name and score\n",
    "        name = bin_id\n",
    "        \n",
    "        # Additional fields\n",
    "        sig_factors = row['significant_factors']\n",
    "        \n",
    "        # Write BED line (tab-separated) using RefSeq ID as chromosome\n",
    "        bed_line = f\"{refseq_id}\\t{start}\\t{end}\\t{name}\\t{strand}\\t{sig_factors}\\n\"\n",
    "        bed_file.write(bed_line)\n",
    "        processed_rows += 1\n",
    "        \n",
    "print(f\"BED file created: {output_bed} with {processed_rows} bins\")\n",
    "print(f\"Skipped bins: {skipped_factor_criteria} with factor1=False, factor2=True, interaction=False\")"
   ]
  },
  {
   "cell_type": "code",
   "execution_count": 27,
   "id": "b6dbdbbc-5509-4095-8bff-00d2ca684a3a",
   "metadata": {},
   "outputs": [
    {
     "name": "stdout",
     "output_type": "stream",
     "text": [
      "Many modules are hidden in this stack. Use \"module --show_hidden spider SOFTWARE\" if you are not able to find the required software\n",
      "\n",
      "Inactive Modules:\n",
      "  1) python/3.11.6_cuda\n",
      "\n",
      "Due to MODULEPATH changes, the following have been reloaded:\n",
      "  1) hdf5/1.14.3     2) r/4.3.2\n",
      "\n",
      "The following have been reloaded with a version change:\n",
      "  1) cuda/12.2.1 => cuda/12.8.0     3) stack/2024-05 => stack/2024-06\n",
      "  2) gcc/13.2.0 => gcc/12.2.0\n",
      "\n"
     ]
    }
   ],
   "source": [
    "#USE INTERSECT OF BEDTOOLS FOR THE KNOWN GENE AND PROMOTER COORDINATES WITH THE PRODUCED BED FILE\n",
    "!module load stack/2024-06 gcc/12.2.0 bedtools2/2.31.0\n",
    "!/cluster/software/stacks/2024-06/spack/opt/spack/linux-ubuntu22.04-x86_64_v3/gcc-12.2.0/bedtools2-2.31.0-a4obbslkxntgdx2criopqpwx662gcftq/bin/bedtools intersect -a ../data_anova/cpg/important_bins.bed -b /nfs/nas12.ethz.ch/fs1201/green_groups_let_public/Euler/Vakil/Mouse_brain_Sept2024/gene_annotation/knownGenes_canononical.bed -wa -wb > ../data_anova/cpg/cpg_overlap_genes_result.bed"
   ]
  },
  {
   "cell_type": "code",
   "execution_count": 28,
   "id": "e969de8f-8d8a-4359-9aa3-3198eeb94086",
   "metadata": {},
   "outputs": [],
   "source": [
    "!/cluster/software/stacks/2024-06/spack/opt/spack/linux-ubuntu22.04-x86_64_v3/gcc-12.2.0/bedtools2-2.31.0-a4obbslkxntgdx2criopqpwx662gcftq/bin/bedtools intersect -a ../data_anova/cpg/important_bins.bed -b /nfs/nas12.ethz.ch/fs1201/green_groups_let_public/Euler/Vakil/Mouse_brain_Sept2024/gene_annotation/knownGenes_canonTr_2000bp_upstream_TSS_feature.bed -wa -wb > ../data_anova/cpg/overlap_promoters_result.bed\n"
   ]
  },
  {
   "cell_type": "code",
   "execution_count": null,
   "id": "0ae0ac72-0b57-4b81-bc33-073a32eff65f",
   "metadata": {},
   "outputs": [],
   "source": []
  }
 ],
 "metadata": {
  "kernelspec": {
   "display_name": "Python 3 (ipykernel)",
   "language": "python",
   "name": "python3"
  },
  "language_info": {
   "codemirror_mode": {
    "name": "ipython",
    "version": 3
   },
   "file_extension": ".py",
   "mimetype": "text/x-python",
   "name": "python",
   "nbconvert_exporter": "python",
   "pygments_lexer": "ipython3",
   "version": "3.11.6"
  }
 },
 "nbformat": 4,
 "nbformat_minor": 5
}
