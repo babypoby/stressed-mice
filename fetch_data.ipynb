{
 "cells": [
  {
   "cell_type": "code",
   "execution_count": null,
   "id": "83a5df1c-676a-4366-a301-e343e72d0bf3",
   "metadata": {
    "editable": true,
    "slideshow": {
     "slide_type": ""
    },
    "tags": []
   },
   "outputs": [
    {
     "name": "stdout",
     "output_type": "stream",
     "text": [
      "/nfs/nas12.ethz.ch/fs1201/green_groups_let_public/Euler/Vakil/Mouse_brain_Sept2024/mouse_brain_Sep2024_processed\n",
      "Searching in: /nfs/nas12.ethz.ch/fs1201/green_groups_let_public/Euler/Vakil/Mouse_brain_Sept2024/mouse_brain_Sep2024_processed/\n",
      "Sample_14_CRS_evening_S14_\n",
      "Saved Sample_14_CRS_evening_S14_ to /cluster/home/taekim/Sample_14_CRS_evening_S14__processed.csv\n",
      "Sample_15_Ctrl_evening_S15_\n",
      "Saved Sample_15_Ctrl_evening_S15_ to /cluster/home/taekim/Sample_15_Ctrl_evening_S15__processed.csv\n",
      "Sample_05_Ctrl_morning_S5_\n",
      "Saved Sample_05_Ctrl_morning_S5_ to /cluster/home/taekim/Sample_05_Ctrl_morning_S5__processed.csv\n",
      "Sample_01_Ctrl_morning_S1_\n",
      "Saved Sample_01_Ctrl_morning_S1_ to /cluster/home/taekim/Sample_01_Ctrl_morning_S1__processed.csv\n",
      "Sample_16_CRS_evening_S16_\n",
      "Saved Sample_16_CRS_evening_S16_ to /cluster/home/taekim/Sample_16_CRS_evening_S16__processed.csv\n",
      "Sample_11_Ctrl_evening_S11_\n",
      "Saved Sample_11_Ctrl_evening_S11_ to /cluster/home/taekim/Sample_11_Ctrl_evening_S11__processed.csv\n",
      "Sample_13_Ctrl_evening_S13_\n",
      "Saved Sample_13_Ctrl_evening_S13_ to /cluster/home/taekim/Sample_13_Ctrl_evening_S13__processed.csv\n",
      "Sample_08_CRS_morning_S8_\n",
      "Saved Sample_08_CRS_morning_S8_ to /cluster/home/taekim/Sample_08_CRS_morning_S8__processed.csv\n",
      "Sample_20_CRS_evening_S20_\n",
      "Saved Sample_20_CRS_evening_S20_ to /cluster/home/taekim/Sample_20_CRS_evening_S20__processed.csv\n",
      "Sample_18_CRS_evening_S18_\n",
      "Saved Sample_18_CRS_evening_S18_ to /cluster/home/taekim/Sample_18_CRS_evening_S18__processed.csv\n",
      "Sample_17_Ctrl_evening_S17_\n",
      "Saved Sample_17_Ctrl_evening_S17_ to /cluster/home/taekim/Sample_17_Ctrl_evening_S17__processed.csv\n",
      "Sample_04_CRS_morning_S4_\n",
      "Saved Sample_04_CRS_morning_S4_ to /cluster/home/taekim/Sample_04_CRS_morning_S4__processed.csv\n",
      "Sample_19_Ctrl_evening_S19_\n",
      "Saved Sample_19_Ctrl_evening_S19_ to /cluster/home/taekim/Sample_19_Ctrl_evening_S19__processed.csv\n",
      "Sample_03_Ctrl_morning_S3_\n",
      "Saved Sample_03_Ctrl_morning_S3_ to /cluster/home/taekim/Sample_03_Ctrl_morning_S3__processed.csv\n",
      "Sample_02_CRS_morning_S2_\n",
      "Saved Sample_02_CRS_morning_S2_ to /cluster/home/taekim/Sample_02_CRS_morning_S2__processed.csv\n",
      "Sample_09_Ctrl_morning_S9_\n",
      "Saved Sample_09_Ctrl_morning_S9_ to /cluster/home/taekim/Sample_09_Ctrl_morning_S9__processed.csv\n",
      "Sample_10_CRS_morning_S10_\n",
      "Saved Sample_10_CRS_morning_S10_ to /cluster/home/taekim/Sample_10_CRS_morning_S10__processed.csv\n",
      "Sample_06_CRS_morning_S6_\n"
     ]
    }
   ],
   "source": [
    "import os\n",
    "import pandas as pd\n",
    "\n",
    "\n",
    "print(os.path.abspath(\"/nfs/nas12.ethz.ch/fs1201/green_groups_let_public/Euler/Vakil/Mouse_brain_Sept2024/mouse_brain_Sep2024_processed/\"))\n",
    "# Define the target path\n",
    "PATH = \"/nfs/nas12.ethz.ch/fs1201/green_groups_let_public/Euler/Vakil/Mouse_brain_Sept2024/mouse_brain_Sep2024_processed/\"\n",
    "\n",
    "print(\"Searching in:\", PATH)\n",
    "\n",
    "for sample in os.listdir(PATH):\n",
    "    if sample.endswith(\"_\"):\n",
    "        print(sample)\n",
    "        file1 = os.path.join(PATH, sample, \"bed_and_bedgraph\", sample + \".GRCh38.p13_G_plus_strand.bedgraph\")\n",
    "        df1 = pd.read_csv(file1, sep = \"\\t\", header = None, index_col = None)\n",
    "        df1.loc[:, \"Strand\"] = \"+\"\n",
    " \n",
    "        file2 = os.path.join(PATH, sample, \"bed_and_bedgraph\", sample + \".GRCh38.p13_G_minus_strand.bedgraph\")\n",
    "        df2 = pd.read_csv(file2, sep = \"\\t\", header = None, index_col = None)\n",
    "        df2.loc[:, \"Strand\"] = \"-\"\n",
    " \n",
    "        df = pd.concat([df1, df2])\n",
    "        df1, df2 = None, None\n",
    "\n",
    "        # Set column names\n",
    "        df.columns = [\"Chromosome\", \"Start\", \"End\", \"Value\", \"MAPQ\", \"Strand\"]\n",
    "\n",
    "        # Save to the current working directory\n",
    "        save_path = os.path.join(os.getcwd(), f\"{sample}_processed.csv\")\n",
    "        df.to_csv(save_path, sep=\"\\t\", index=False)\n",
    "\n",
    "        print(f\"Saved {sample} to {save_path}\")\n"
   ]
  },
  {
   "cell_type": "code",
   "execution_count": null,
   "id": "20d343a5-f11c-4d06-9a4b-0239bb8fca20",
   "metadata": {},
   "outputs": [],
   "source": []
  },
  {
   "cell_type": "code",
   "execution_count": null,
   "id": "3e9cdcff-9c46-46f1-ba8f-7c34e3984129",
   "metadata": {},
   "outputs": [],
   "source": []
  }
 ],
 "metadata": {
  "kernelspec": {
   "display_name": "Python 3 (ipykernel)",
   "language": "python",
   "name": "python3"
  },
  "language_info": {
   "codemirror_mode": {
    "name": "ipython",
    "version": 3
   },
   "file_extension": ".py",
   "mimetype": "text/x-python",
   "name": "python",
   "nbconvert_exporter": "python",
   "pygments_lexer": "ipython3",
   "version": "3.11.6"
  }
 },
 "nbformat": 4,
 "nbformat_minor": 5
}
